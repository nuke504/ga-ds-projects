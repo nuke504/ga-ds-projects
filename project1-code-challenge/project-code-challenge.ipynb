{
 "cells": [
  {
   "cell_type": "markdown",
   "metadata": {},
   "source": [
    "<img src=\"http://imgur.com/1ZcRyrc.png\" style=\"float: left; margin: 20px; height: 55px\">\n",
    "\n",
    "# Project 1: Python Coding Exercises\n",
    "\n",
    "_Authors: Joseph Nelson (DC) _\n",
    "\n",
    "---"
   ]
  },
  {
   "cell_type": "markdown",
   "metadata": {},
   "source": [
    "The following code challenges are drawn from common exercises used in technical interviews.\n",
    "\n",
    "Please note that there may be several ways to approach each challenge. If you get stuck, try mapping out your approach in pseudocode first. Finally, while solutions to problems like these may be found online, remember that if you copy/paste code that you can't explain, you'll be missing out on the point of the project. The only way to truly learn a new skill is through practice, trial, and error - we can only help you improve by understanding where you are having trouble."
   ]
  },
  {
   "cell_type": "code",
   "execution_count": 1,
   "metadata": {},
   "outputs": [],
   "source": [
    "import numpy as np"
   ]
  },
  {
   "cell_type": "markdown",
   "metadata": {},
   "source": [
    "### Challenge 1: Largest Palindrome\n",
    "A palindromic number reads the same both ways. For example, 1234321 is a palindrome. The largest palindrome made from the product of two two-digit numbers is 9009 = 91 × 99. Find the largest palindrome made from the product of two three-digit numbers. Afterward, write a brief explanation walking through your code's logic in markdown."
   ]
  },
  {
   "cell_type": "code",
   "execution_count": 2,
   "metadata": {},
   "outputs": [],
   "source": [
    "def largest_palindrome() -> int:\n",
    "    \"\"\"\n",
    "    Returns the largest palindrome made from the product of 2 3-digit numbers \n",
    "    \n",
    "    :return: Largest palindrome from the product of 2 3-digit numbers\n",
    "    \"\"\"\n",
    "    max_val = 0\n",
    "    \n",
    "    # Start off with the first number, counting down from 999\n",
    "    for i in range(999, 100, -1):\n",
    "        \n",
    "        # For each of the first number, we count down from itself till 100\n",
    "        # We don't need to go down from 999 again as that will imply double work (done in an earlier iteration)\n",
    "        for j in range(i, 100, -1):\n",
    "            \n",
    "            # And we multiply the results\n",
    "            multiplied = i * j\n",
    "            \n",
    "            # If the result is higher than the max value, check if it is a palindrome\n",
    "            if(multiplied > max_val) and str(multiplied) == str(multiplied)[::-1]:\n",
    "                # If it is a palindrome assign the result to the max value\n",
    "                max_val = multiplied\n",
    "    \n",
    "    return max_val"
   ]
  },
  {
   "cell_type": "code",
   "execution_count": 3,
   "metadata": {},
   "outputs": [
    {
     "data": {
      "text/plain": [
       "906609"
      ]
     },
     "execution_count": 3,
     "metadata": {},
     "output_type": "execute_result"
    }
   ],
   "source": [
    "largest_palindrome()"
   ]
  },
  {
   "cell_type": "markdown",
   "metadata": {},
   "source": [
    "### Explanation\n",
    "The function largest_palindrome returns the product of 2 3-digit numbers\n",
    "\n",
    "To do this,\n",
    "1. Start off with the first number, counting down from 999 (since we want the largest, we should do it from the largest number to speed up the process - otherwise we have to keep updating the max value and checking if its a palindrome - which takes time)\n",
    "2. For each of the first number, count down from itself till 100. We don't need to go down from 999 again as that will imply double work (in an earlier iteration of the loop it would have multiplied the same pair of number)\n",
    "3. We multiply the 2 numbers\n",
    "4. Store the result in max_val if it is higher than the max value and it is a palindrome\n",
    "5. Return the largest number once it counts down to 0"
   ]
  },
  {
   "cell_type": "markdown",
   "metadata": {},
   "source": [
    "\n",
    "### Challenge 2: Summation of Primes\n",
    "The sum of the primes below 10 is 2 + 3 + 5 + 7 = 17. Find the sum of all the primes below 2,000. Afterward, write a brief explanation walking through your code's logic in markdown."
   ]
  },
  {
   "cell_type": "code",
   "execution_count": 4,
   "metadata": {},
   "outputs": [],
   "source": [
    "def summation_primes(limit:int) -> int:\n",
    "    \"\"\"\n",
    "    Sums up all the primes below the limit (inclusive)\n",
    "    \n",
    "    :param limit: Limit in integer\n",
    "    :return: sum of all prime numbers up to the limit\n",
    "    \"\"\"\n",
    "    \n",
    "    # Build a truth array of shape [limit] where all values are 1\n",
    "    is_prime_arr = np.ones(limit)\n",
    "    is_prime_arr[0] = 0 # 1 is not a prime number\n",
    "    \n",
    "    # Start with the first prime number\n",
    "    num_to_check = 2\n",
    "\n",
    "    # Run this loop to eliminate all multiples of the checked number (if prime) under the limit\n",
    "    # If the number multiplied by itself is already larger than the limit we don't need to run this loop\n",
    "    # This is because the checked number will either be a prime number (and there's no further multiple)\n",
    "    # Or it will not be a prime number (don't need to set multiples as non prime)\n",
    "    while num_to_check**2 <= limit:\n",
    "        \n",
    "        # Jump to the next number if the number is not prime\n",
    "        if is_prime_arr[num_to_check-1] == 1:\n",
    "            # Otherwise build a range of all its multiples till the limit\n",
    "            sieve = np.arange(num_to_check * 2, limit + 1, num_to_check)\n",
    "            # And set all its multiples as non-prime\n",
    "            is_prime_arr[sieve-1] = 0\n",
    "            \n",
    "        # Get next number to check\n",
    "        num_to_check += 1\n",
    "    \n",
    "    return (np.argwhere(is_prime_arr)+1).sum()"
   ]
  },
  {
   "cell_type": "code",
   "execution_count": 5,
   "metadata": {},
   "outputs": [
    {
     "data": {
      "text/plain": [
       "277050"
      ]
     },
     "execution_count": 5,
     "metadata": {},
     "output_type": "execute_result"
    }
   ],
   "source": [
    "summation_primes(2001)"
   ]
  },
  {
   "cell_type": "markdown",
   "metadata": {},
   "source": [
    "### Explanation\n",
    "The function summation_primes sums up all the primes below the limit (2000)\n",
    "\n",
    "To do this,\n",
    "1. Build a numpy array where all values are 1 of shape [2000]. Each value in the array represents if the number corresponding to the index is a prime or not\n",
    "2. 1 is not a prime number, so we set the first value of the array to be 0\n",
    "3. Start with the first prime number (2).\n",
    "4. For each of these numbers, we keep multiplying the number by itself up to the limit. All of these numbers (other than the number itself), will be set as non-prime\n",
    "5. We then move on to the next number to check. If this number has already been set to a non-prime number (from an earlier loop iteration) it can be ignored\n",
    "6. Do this until the square of the number to check is more than 2000. At this point we stop because any number larger than this is either 1) a prime number - since all numbers are originally set as prime numbers we won't need to do anything or 2) a non-prime - in which case it would have been set as non-prime already\n",
    "7. Return all the indices where the array is not 0, add 1 to offset the index starting at 0 and then return the sum"
   ]
  },
  {
   "cell_type": "markdown",
   "metadata": {},
   "source": [
    "### Challenge 3: Multiples of 3 and 5\n",
    "If we list all of the natural numbers below 10 that are multiples of 3 or 5, we get 3, 5, 6, and 9. The sum of these multiples is 23. Find the sum of all the multiples of 3 and 5 below 1,000. Afterward, write a brief explanation walking through your code's logic in markdown."
   ]
  },
  {
   "cell_type": "code",
   "execution_count": 6,
   "metadata": {},
   "outputs": [],
   "source": [
    "def multiples_of_3_and_5(limit:int) -> int:\n",
    "    \"\"\"\n",
    "    Sums up all all the multiples of 3 and 5 below the limit (exclusive)\n",
    "    \n",
    "    :param limit: Find all multiples of 3 and 5 below limit\n",
    "    :return: sum of all such multiples\n",
    "    \"\"\"\n",
    "    \n",
    "    # Get all the multiples of 3 and 5 up to the limit\n",
    "    all_multiples_3 = list(range(3, limit, 3))\n",
    "    all_multiples_5 = list(range(5, limit, 5))\n",
    "    \n",
    "    # Deduplicate using a set and sum all the values up\n",
    "    return sum(set(all_multiples_3 + all_multiples_5))"
   ]
  },
  {
   "cell_type": "code",
   "execution_count": 7,
   "metadata": {},
   "outputs": [
    {
     "data": {
      "text/plain": [
       "23"
      ]
     },
     "execution_count": 7,
     "metadata": {},
     "output_type": "execute_result"
    }
   ],
   "source": [
    "multiples_of_3_and_5(10)"
   ]
  },
  {
   "cell_type": "code",
   "execution_count": 8,
   "metadata": {},
   "outputs": [
    {
     "data": {
      "text/plain": [
       "233168"
      ]
     },
     "execution_count": 8,
     "metadata": {},
     "output_type": "execute_result"
    }
   ],
   "source": [
    "multiples_of_3_and_5(1000)"
   ]
  },
  {
   "cell_type": "markdown",
   "metadata": {},
   "source": [
    "### Explanation\n",
    "The function multiples_of_3_and_5 sums up all multiples of 3 and 5 below the limit\n",
    "\n",
    "To do this,\n",
    "1. Form 2 lists. Each list contains 3 or 5 and its multiples all the way to the limit\n",
    "2. Deduplicate the lists using a set and return the sum"
   ]
  },
  {
   "cell_type": "markdown",
   "metadata": {},
   "source": [
    "### Challenge 4: String Compressor\n",
    "Implement a method to perform basic string compression using the counts of repeated characters. (This is called run-length encoding.) For example, the string \"aabcccccaaa\" would become a2b1c5a3. If the “compressed” string would not become smaller than the original string, your method should return the original string. You can assume the string has only uppercase and lowercase letters (a–z). Specify whether your solution is case sensitive or case insensitive and what you would need to change to make it the other. Afterward, write a brief explanation walking through your code's logic in markdown."
   ]
  },
  {
   "cell_type": "code",
   "execution_count": 9,
   "metadata": {},
   "outputs": [],
   "source": [
    "def string_compressor(\n",
    "    string_to_compress:str,\n",
    "    case_sensitive:bool = False\n",
    ") -> str:\n",
    "    \"\"\"\n",
    "    Performs run-length encoding on the string\n",
    "    \n",
    "    :param string_to_compress: The string to compress\n",
    "    :param case_sensitive: whether the encoding is case sensitive\n",
    "    :return: compressed string\n",
    "    \"\"\"\n",
    "    compressed_string = \"\"\n",
    "    \n",
    "    # If not case sensitive, convert the string to lower case\n",
    "    if not case_sensitive:\n",
    "        string_to_compress = string_to_compress.lower()\n",
    "    \n",
    "    # Define default values\n",
    "    count = 1\n",
    "    char_to_track = string_to_compress[0]\n",
    "    # Enumerate through the string to compress\n",
    "    for idx, char in enumerate(string_to_compress[1:]):\n",
    "        \n",
    "        # If the next character is the same as the character being tracked, add count + 1\n",
    "        if char == char_to_track:\n",
    "            count += 1\n",
    "            \n",
    "            # If not at the end of the string, skip to the next iteration\n",
    "            if idx < len(string_to_compress) - 2:\n",
    "                continue\n",
    "        \n",
    "        # If next character is different or end of the string, save results\n",
    "        compressed_string += f\"{char_to_track}{count}\"\n",
    "        \n",
    "        # reset the values\n",
    "        count = 1\n",
    "        char_to_track = char\n",
    "    \n",
    "    # Return the non-compressed string if compressed string is longer\n",
    "    if len(compressed_string) > len(string_to_compress):\n",
    "        return string_to_compress\n",
    "    # Otherwise return the compressed string\n",
    "    else:\n",
    "        return compressed_string"
   ]
  },
  {
   "cell_type": "code",
   "execution_count": 10,
   "metadata": {},
   "outputs": [
    {
     "data": {
      "text/plain": [
       "'a2b1c5a3'"
      ]
     },
     "execution_count": 10,
     "metadata": {},
     "output_type": "execute_result"
    }
   ],
   "source": [
    "string_compressor(\"aabcccccaaa\")"
   ]
  },
  {
   "cell_type": "code",
   "execution_count": 11,
   "metadata": {},
   "outputs": [
    {
     "data": {
      "text/plain": [
       "'a2b1c5a3'"
      ]
     },
     "execution_count": 11,
     "metadata": {},
     "output_type": "execute_result"
    }
   ],
   "source": [
    "string_compressor(\"aAbcccccaaa\")"
   ]
  },
  {
   "cell_type": "code",
   "execution_count": 12,
   "metadata": {},
   "outputs": [
    {
     "data": {
      "text/plain": [
       "'a1A1b1c5a3'"
      ]
     },
     "execution_count": 12,
     "metadata": {},
     "output_type": "execute_result"
    }
   ],
   "source": [
    "string_compressor(\"aAbcccccaaa\", True)"
   ]
  },
  {
   "cell_type": "code",
   "execution_count": 13,
   "metadata": {},
   "outputs": [
    {
     "data": {
      "text/plain": [
       "'aabbccddefgh'"
      ]
     },
     "execution_count": 13,
     "metadata": {},
     "output_type": "execute_result"
    }
   ],
   "source": [
    "string_compressor(\"aabbccddefgh\")"
   ]
  },
  {
   "cell_type": "markdown",
   "metadata": {},
   "source": [
    "### Explanation\n",
    "The function string_compressor performs run-length encoding\n",
    "\n",
    "To do this,\n",
    "1. Convert the string to lower case if not case_sensitive\n",
    "2. Define the default value of 1 and the character to track (first char in the string)\n",
    "3. Enumerate through the rest of the string\n",
    "4. If the next character is the same as the character being tracked, add 1 to count. If its not at the end of the string, skip to the next iteration\n",
    "5. Otherwise, save the results to the compressed string and reset the values\n",
    "6. Only return the non-compressed string if the compressed string is longer"
   ]
  },
  {
   "cell_type": "markdown",
   "metadata": {},
   "source": [
    "### *BONUS* Challenge: FizzBuzz\n",
    "Write a program that prints all of the numbers from 1 to 100. For multiples of 3, instead of the number, print \"Fizz;\" for multiples of 5, print \"Buzz.\" For numbers that are multiples of both 3 and 5, print \"FizzBuzz.\" Afterward, write a brief explanation walking through your code's logic in markdown."
   ]
  }
 ],
 "metadata": {
  "anaconda-cloud": {},
  "kernelspec": {
   "display_name": "Python 3",
   "language": "python",
   "name": "python3"
  },
  "language_info": {
   "codemirror_mode": {
    "name": "ipython",
    "version": 3
   },
   "file_extension": ".py",
   "mimetype": "text/x-python",
   "name": "python",
   "nbconvert_exporter": "python",
   "pygments_lexer": "ipython3",
   "version": "3.8.3"
  }
 },
 "nbformat": 4,
 "nbformat_minor": 4
}
