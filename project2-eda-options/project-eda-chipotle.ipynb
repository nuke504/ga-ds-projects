{
 "cells": [
  {
   "cell_type": "markdown",
   "metadata": {},
   "source": [
    "<img src=\"http://imgur.com/1ZcRyrc.png\" style=\"float: left; margin: 20px; height: 55px\">\n",
    "\n",
    "# Project 2: Analyzing Chipotle Data\n",
    "\n",
    "_Author: Joseph Nelson (DC)_\n",
    "\n",
    "---"
   ]
  },
  {
   "cell_type": "markdown",
   "metadata": {},
   "source": [
    "For Project 2, you will complete a series of exercises exploring [order data from Chipotle](https://github.com/TheUpshot/chipotle), compliments of _The New York Times'_ \"The Upshot.\"\n",
    "\n",
    "For these exercises, you will conduct basic exploratory data analysis (Pandas not required) to understand the essentials of Chipotle's order data: how many orders are being made, the average price per order, how many different ingredients are used, etc. These allow you to practice business analysis skills while also becoming comfortable with Python."
   ]
  },
  {
   "cell_type": "markdown",
   "metadata": {},
   "source": [
    "---\n",
    "\n",
    "## Basic Level"
   ]
  },
  {
   "cell_type": "markdown",
   "metadata": {},
   "source": [
    "### Part 1: Read in the file with `csv.reader()` and store it in an object called `file_nested_list`.\n",
    "\n",
    "Hint: This is a TSV (tab-separated value) file, and `csv.reader()` needs to be told [how to handle it](https://docs.python.org/2/library/csv.html)."
   ]
  },
  {
   "cell_type": "code",
   "execution_count": 1,
   "metadata": {},
   "outputs": [],
   "source": [
    "import csv\n",
    "from collections import namedtuple   # Convenient to store the data rows\n",
    "\n",
    "DATA_FILE = './data/chipotle.tsv'"
   ]
  },
  {
   "cell_type": "code",
   "execution_count": 2,
   "metadata": {},
   "outputs": [],
   "source": [
    "file_nested_list = []\n",
    "with open(DATA_FILE, \"r\", newline=\"\\n\") as infile:\n",
    "    for row in csv.reader(infile, delimiter=\"\\t\"):\n",
    "        file_nested_list.append(row)"
   ]
  },
  {
   "cell_type": "markdown",
   "metadata": {},
   "source": [
    "### Part 2: Separate `file_nested_list` into the `header` and the `data`.\n"
   ]
  },
  {
   "cell_type": "code",
   "execution_count": 3,
   "metadata": {},
   "outputs": [],
   "source": [
    "header = file_nested_list[0]\n",
    "data = file_nested_list[1:]"
   ]
  },
  {
   "cell_type": "code",
   "execution_count": 4,
   "metadata": {},
   "outputs": [
    {
     "name": "stdout",
     "output_type": "stream",
     "text": [
      "['order_id', 'quantity', 'item_name', 'choice_description', 'item_price']\n"
     ]
    }
   ],
   "source": [
    "print(header)"
   ]
  },
  {
   "cell_type": "markdown",
   "metadata": {},
   "source": [
    "---\n",
    "\n",
    "## Intermediate Level"
   ]
  },
  {
   "cell_type": "markdown",
   "metadata": {},
   "source": [
    "### Part 3: Calculate the average price of an order.\n",
    "\n",
    "Hint: Examine the data to see if the `quantity` column is relevant to this calculation.\n",
    "\n",
    "Hint: Think carefully about the simplest way to do this!"
   ]
  },
  {
   "cell_type": "code",
   "execution_count": 5,
   "metadata": {},
   "outputs": [
    {
     "data": {
      "text/plain": [
       "[['55', '1', 'Canned Soda', '[Coca Cola]', '$1.09 '],\n",
       " ['81', '1', 'Canned Soda', '[Coca Cola]', '$1.09 '],\n",
       " ['87', '1', 'Canned Soda', '[Coca Cola]', '$1.09 '],\n",
       " ['122', '1', 'Canned Soda', '[Coca Cola]', '$1.09 '],\n",
       " ['188', '1', 'Canned Soda', '[Coca Cola]', '$1.09 '],\n",
       " ['338', '1', 'Canned Soda', '[Coca Cola]', '$1.09 '],\n",
       " ['392', '1', 'Canned Soda', '[Coca Cola]', '$1.09 '],\n",
       " ['567', '1', 'Canned Soda', '[Coca Cola]', '$1.09 '],\n",
       " ['787', '1', 'Canned Soda', '[Coca Cola]', '$1.09 '],\n",
       " ['971', '1', 'Canned Soda', '[Coca Cola]', '$1.09 '],\n",
       " ['990', '1', 'Canned Soda', '[Coca Cola]', '$1.09 '],\n",
       " ['1001', '1', 'Canned Soda', '[Coca Cola]', '$1.09 '],\n",
       " ['1014', '1', 'Canned Soda', '[Coca Cola]', '$1.09 '],\n",
       " ['1122', '1', 'Canned Soda', '[Coca Cola]', '$1.09 '],\n",
       " ['1124', '1', 'Canned Soda', '[Coca Cola]', '$1.09 '],\n",
       " ['1195', '1', 'Canned Soda', '[Coca Cola]', '$1.09 '],\n",
       " ['1262', '1', 'Canned Soda', '[Coca Cola]', '$1.09 '],\n",
       " ['1396', '1', 'Canned Soda', '[Coca Cola]', '$1.09 '],\n",
       " ['1434', '1', 'Canned Soda', '[Coca Cola]', '$1.09 '],\n",
       " ['1475', '1', 'Canned Soda', '[Coca Cola]', '$1.09 '],\n",
       " ['151', '2', 'Canned Soda', '[Coca Cola]', '$2.18 '],\n",
       " ['287', '2', 'Canned Soda', '[Coca Cola]', '$2.18 '],\n",
       " ['288', '2', 'Canned Soda', '[Coca Cola]', '$2.18 '],\n",
       " ['450', '2', 'Canned Soda', '[Coca Cola]', '$2.18 '],\n",
       " ['1156', '2', 'Canned Soda', '[Coca Cola]', '$2.18 '],\n",
       " ['1349', '2', 'Canned Soda', '[Coca Cola]', '$2.18 ']]"
      ]
     },
     "execution_count": 5,
     "metadata": {},
     "output_type": "execute_result"
    }
   ],
   "source": [
    "sorted(filter(lambda row: row[2] == \"Canned Soda\" and row[3] == \"[Coca Cola]\",data), key = lambda row: int(row[1]))"
   ]
  },
  {
   "cell_type": "markdown",
   "metadata": {},
   "source": [
    "Looking at the list above, we can see that price already takes qty into account. Hence we don't need to multiply the price by the qty to get the total price for an order."
   ]
  },
  {
   "cell_type": "code",
   "execution_count": 6,
   "metadata": {},
   "outputs": [],
   "source": [
    "from functools import reduce\n",
    "\n",
    "qty_col_idx = header.index(\"quantity\")\n",
    "price_col_idx = header.index(\"item_price\")\n",
    "\n",
    "process_price = lambda price: float(row[price_col_idx].split(\"$\")[1])\n",
    "get_avg = lambda acc, total: ((total+acc[1]*acc[0])/(acc[1]+1), (acc[1]+1))"
   ]
  },
  {
   "cell_type": "code",
   "execution_count": 7,
   "metadata": {},
   "outputs": [
    {
     "name": "stdout",
     "output_type": "stream",
     "text": [
      "$8.75\n"
     ]
    }
   ],
   "source": [
    "avg_price = reduce(get_avg, map(process_price, data), (0,0))[0]\n",
    "print(f\"${avg_price:.2f}\")"
   ]
  },
  {
   "cell_type": "markdown",
   "metadata": {},
   "source": [
    "### Part 4: Create a list (or set) named `unique_sodas` containing all of unique sodas and soft drinks that Chipotle sells.\n",
    "\n",
    "Note: Just look for `'Canned Soda'` and `'Canned Soft Drink'`, and ignore other drinks like `'Izze'`."
   ]
  },
  {
   "cell_type": "code",
   "execution_count": 8,
   "metadata": {},
   "outputs": [],
   "source": [
    "item_name_idx = header.index(\"item_name\")\n",
    "choice_col_idx = header.index(\"choice_description\")\n",
    "\n",
    "check_if_soda = lambda row: row[item_name_idx] in (\"Canned Soda\",\"Canned Soft Drink\")\n",
    "process_choice_list = lambda choices: set(choices.strip(\"[]\").split(\", \"))\n",
    "select_choices = lambda row: row[choice_col_idx]\n",
    "add_item = lambda acc, choices: acc.union(choices) if choices != \"NULL\" else acc"
   ]
  },
  {
   "cell_type": "code",
   "execution_count": 9,
   "metadata": {},
   "outputs": [],
   "source": [
    "unique_sodas = reduce(add_item, map(process_choice_list, map(select_choices, filter(check_if_soda, data))))"
   ]
  },
  {
   "cell_type": "code",
   "execution_count": 10,
   "metadata": {},
   "outputs": [
    {
     "data": {
      "text/plain": [
       "{'Coca Cola',\n",
       " 'Coke',\n",
       " 'Diet Coke',\n",
       " 'Diet Dr. Pepper',\n",
       " 'Dr. Pepper',\n",
       " 'Lemonade',\n",
       " 'Mountain Dew',\n",
       " 'Nestea',\n",
       " 'Sprite'}"
      ]
     },
     "execution_count": 10,
     "metadata": {},
     "output_type": "execute_result"
    }
   ],
   "source": [
    "unique_sodas"
   ]
  },
  {
   "cell_type": "markdown",
   "metadata": {},
   "source": [
    "---\n",
    "\n",
    "## Advanced Level\n"
   ]
  },
  {
   "cell_type": "markdown",
   "metadata": {},
   "source": [
    "### Part 5: Calculate the average number of toppings per burrito.\n",
    "\n",
    "Note: Let's ignore the `quantity` column to simplify this task.\n",
    "\n",
    "Hint: Think carefully about the easiest way to count the number of toppings!\n"
   ]
  },
  {
   "cell_type": "code",
   "execution_count": 11,
   "metadata": {},
   "outputs": [],
   "source": [
    "# Assume that the sauce (salsa) also counts as one of the toppings\n",
    "# Then we don't care about choosing either the first or the second nested list\n",
    "check_if_burrito = lambda row: \"burrito\" in row[item_name_idx].lower()\n",
    "count_number_toppings = lambda row: len(row[choice_col_idx].split(\",\"))\n",
    "result = reduce(get_avg, map(count_number_toppings, filter(check_if_burrito, data)),[0,0])[0]"
   ]
  },
  {
   "cell_type": "code",
   "execution_count": 12,
   "metadata": {},
   "outputs": [
    {
     "data": {
      "text/plain": [
       "5.395051194539241"
      ]
     },
     "execution_count": 12,
     "metadata": {},
     "output_type": "execute_result"
    }
   ],
   "source": [
    "result"
   ]
  },
  {
   "cell_type": "markdown",
   "metadata": {},
   "source": [
    "### Part 6: Create a dictionary. Let the keys represent chip orders and the values represent the total number of orders.\n",
    "\n",
    "Expected output: `{'Chips and Roasted Chili-Corn Salsa': 18, ... }`\n",
    "\n",
    "Note: Please take the `quantity` column into account!\n",
    "\n",
    "Optional: Learn how to use `.defaultdict()` to simplify your code."
   ]
  },
  {
   "cell_type": "code",
   "execution_count": 13,
   "metadata": {},
   "outputs": [],
   "source": [
    "from collections import Counter"
   ]
  },
  {
   "cell_type": "code",
   "execution_count": 14,
   "metadata": {},
   "outputs": [],
   "source": [
    "get_kv_pairs = lambda row: (row[item_name_idx], int(row[qty_col_idx]))\n",
    "\n",
    "def count_items(ctr, row):\n",
    "    item, qty = row\n",
    "    ctr[item] += qty\n",
    "    return ctr\n",
    "\n",
    "item_count = reduce(count_items, map(get_kv_pairs, data), Counter())"
   ]
  },
  {
   "cell_type": "code",
   "execution_count": 15,
   "metadata": {},
   "outputs": [
    {
     "data": {
      "text/plain": [
       "Counter({'Chips and Fresh Tomato Salsa': 130,\n",
       "         'Izze': 20,\n",
       "         'Nantucket Nectar': 29,\n",
       "         'Chips and Tomatillo-Green Chili Salsa': 33,\n",
       "         'Chicken Bowl': 761,\n",
       "         'Side of Chips': 110,\n",
       "         'Steak Burrito': 386,\n",
       "         'Steak Soft Tacos': 56,\n",
       "         'Chips and Guacamole': 506,\n",
       "         'Chicken Crispy Tacos': 50,\n",
       "         'Chicken Soft Tacos': 120,\n",
       "         'Chicken Burrito': 591,\n",
       "         'Canned Soda': 126,\n",
       "         'Barbacoa Burrito': 91,\n",
       "         'Carnitas Burrito': 60,\n",
       "         'Carnitas Bowl': 71,\n",
       "         'Bottled Water': 211,\n",
       "         'Chips and Tomatillo Green Chili Salsa': 45,\n",
       "         'Barbacoa Bowl': 66,\n",
       "         'Chips': 230,\n",
       "         'Chicken Salad Bowl': 123,\n",
       "         'Steak Bowl': 221,\n",
       "         'Barbacoa Soft Tacos': 25,\n",
       "         'Veggie Burrito': 97,\n",
       "         'Veggie Bowl': 87,\n",
       "         'Steak Crispy Tacos': 36,\n",
       "         'Chips and Tomatillo Red Chili Salsa': 50,\n",
       "         'Barbacoa Crispy Tacos': 12,\n",
       "         'Veggie Salad Bowl': 18,\n",
       "         'Chips and Roasted Chili-Corn Salsa': 18,\n",
       "         'Chips and Roasted Chili Corn Salsa': 23,\n",
       "         'Carnitas Soft Tacos': 40,\n",
       "         'Chicken Salad': 9,\n",
       "         'Canned Soft Drink': 351,\n",
       "         'Steak Salad Bowl': 31,\n",
       "         '6 Pack Soft Drink': 55,\n",
       "         'Chips and Tomatillo-Red Chili Salsa': 25,\n",
       "         'Bowl': 4,\n",
       "         'Burrito': 6,\n",
       "         'Crispy Tacos': 2,\n",
       "         'Carnitas Crispy Tacos': 8,\n",
       "         'Steak Salad': 4,\n",
       "         'Chips and Mild Fresh Tomato Salsa': 1,\n",
       "         'Veggie Soft Tacos': 8,\n",
       "         'Carnitas Salad Bowl': 6,\n",
       "         'Barbacoa Salad Bowl': 10,\n",
       "         'Salad': 2,\n",
       "         'Veggie Crispy Tacos': 1,\n",
       "         'Veggie Salad': 6,\n",
       "         'Carnitas Salad': 1})"
      ]
     },
     "execution_count": 15,
     "metadata": {},
     "output_type": "execute_result"
    }
   ],
   "source": [
    "item_count"
   ]
  },
  {
   "cell_type": "markdown",
   "metadata": {},
   "source": [
    "---\n",
    "\n",
    "## Bonus: Craft a problem statement about this data that interests you, and then answer it!\n"
   ]
  },
  {
   "cell_type": "markdown",
   "metadata": {},
   "source": [
    "#### Problem Statement\n",
    "\n",
    "The restaurant owner is interested in finding out what is the most popular salsa topping among customers. Assume that each order is purchased by a different customer.\n",
    "\n",
    "Salsa toppings of different spiciness (Hot), (Medium), (Mild) count as the same topping"
   ]
  },
  {
   "cell_type": "code",
   "execution_count": 16,
   "metadata": {},
   "outputs": [],
   "source": [
    "from more_itertools import flatten"
   ]
  },
  {
   "cell_type": "code",
   "execution_count": 17,
   "metadata": {},
   "outputs": [
    {
     "data": {
      "text/plain": [
       "Counter({'Tomatillo Green Chili Salsa': 20,\n",
       "         'Roasted Chili Corn Salsa': 93,\n",
       "         'Fresh Tomato Salsa': 146,\n",
       "         'Tomatillo-Red Chili Salsa': 30,\n",
       "         'Tomatillo Red Chili Salsa': 54,\n",
       "         'Tomatillo-Green Chili Salsa': 15})"
      ]
     },
     "execution_count": 17,
     "metadata": {},
     "output_type": "execute_result"
    }
   ],
   "source": [
    "filter_salsa_topping = lambda topping: \"Salsa\" in topping\n",
    "filter_tacos = lambda row: \"Tacos\" in row[2]\n",
    "\n",
    "get_toppings = lambda row: row[3].split(\",\")\n",
    "\n",
    "def process_salsa_toppings(salsa):\n",
    "    salsa = salsa.strip(\"[]\")\n",
    "    salsa = salsa.replace(\"(Hot)\",\"\")\n",
    "    salsa = salsa.replace(\"(Medium)\",\"\")\n",
    "    salsa = salsa.replace(\"(Mild)\",\"\")\n",
    "    \n",
    "    return salsa.strip()\n",
    "\n",
    "result = Counter(map(process_salsa_toppings, filter(filter_salsa_topping, flatten(map(get_toppings, filter(filter_tacos, data))))))\n",
    "\n",
    "result"
   ]
  },
  {
   "cell_type": "code",
   "execution_count": null,
   "metadata": {},
   "outputs": [],
   "source": []
  }
 ],
 "metadata": {
  "anaconda-cloud": {},
  "kernelspec": {
   "display_name": "Python 3",
   "language": "python",
   "name": "python3"
  },
  "language_info": {
   "codemirror_mode": {
    "name": "ipython",
    "version": 3
   },
   "file_extension": ".py",
   "mimetype": "text/x-python",
   "name": "python",
   "nbconvert_exporter": "python",
   "pygments_lexer": "ipython3",
   "version": "3.8.3"
  }
 },
 "nbformat": 4,
 "nbformat_minor": 4
}
